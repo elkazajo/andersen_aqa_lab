{
  "nbformat": 4,
  "nbformat_minor": 0,
  "metadata": {
    "colab": {
      "provenance": [],
      "authorship_tag": "ABX9TyOBo/Hyx18012hAI5IAvy73",
      "include_colab_link": true
    },
    "kernelspec": {
      "name": "python3",
      "display_name": "Python 3"
    },
    "language_info": {
      "name": "python"
    }
  },
  "cells": [
    {
      "cell_type": "markdown",
      "metadata": {
        "id": "view-in-github",
        "colab_type": "text"
      },
      "source": [
        "<a href=\"https://colab.research.google.com/github/elkazajo/andersen_aqa_lab/blob/main/AQA_Test_Task.ipynb\" target=\"_parent\"><img src=\"https://colab.research.google.com/assets/colab-badge.svg\" alt=\"Open In Colab\"/></a>"
      ]
    },
    {
      "cell_type": "markdown",
      "source": [
        "\n",
        "Prints 'Hello', if the entered number is greater than 7\n"
      ],
      "metadata": {
        "id": "lqC8AEeCLOKi"
      }
    },
    {
      "cell_type": "code",
      "execution_count": null,
      "metadata": {
        "colab": {
          "base_uri": "https://localhost:8080/"
        },
        "id": "dvPjMrRWLA-u",
        "outputId": "5d08b180-f04c-43d5-dccc-506173d21afb"
      },
      "outputs": [
        {
          "output_type": "stream",
          "name": "stdout",
          "text": [
            "Enter a number: 8\n",
            "Hello\n"
          ]
        }
      ],
      "source": [
        "user_input = input(\"Enter a number: \")\n",
        "\n",
        "try:\n",
        "  number = int(user_input)\n",
        "  if number > 7:\n",
        "    print(\"Hello\")\n",
        "  else:\n",
        "    print(\"The number is not greater than 7\")\n",
        "except ValueError:\n",
        "    print(\"Invalid input. Please enter an integer.\")\n"
      ]
    },
    {
      "cell_type": "markdown",
      "source": [
        "If the entered name is John prints \"Hello John\", else prints \"There is no such name\""
      ],
      "metadata": {
        "id": "atgNTQ14MIr-"
      }
    },
    {
      "cell_type": "code",
      "source": [
        "user_name = input(\"Enter your name: \")\n",
        "\n",
        "if user_name == \"John\":\n",
        "  print(\"Hello John\")\n",
        "else:\n",
        "  print(\"There is no such name\")\n"
      ],
      "metadata": {
        "id": "QkxShSfsMdvm"
      },
      "execution_count": null,
      "outputs": []
    },
    {
      "cell_type": "markdown",
      "source": [
        "Recieves an array of numbers, outputs only multiples of 3"
      ],
      "metadata": {
        "id": "HoWNCqDMMxQl"
      }
    },
    {
      "cell_type": "code",
      "source": [
        "input_string = input(\"Enter a list of numbers separated by spaces: \")\n",
        "\n",
        "def validate_input(input_to_validate):\n",
        "  elements = input_to_validate.split()\n",
        "\n",
        "  for element in elements:\n",
        "    try:\n",
        "        int(element)\n",
        "    except ValueError:\n",
        "        raise ValueError(\"Invalid input: Please enter numbers separated by spaces.\")\n",
        "\n",
        "\n",
        "try:\n",
        "    validate_input(input_string)\n",
        "    number_strings = input_string.split()\n",
        "    numbers = [int(num) for num in number_strings]\n",
        "    multiples_of_3 = [num for num in numbers if num % 3 == 0]\n",
        "\n",
        "    print(\"Multiples of 3 are:\", multiples_of_3)\n",
        "except ValueError as e:\n",
        "    print(e)\n"
      ],
      "metadata": {
        "colab": {
          "base_uri": "https://localhost:8080/"
        },
        "id": "xMSTNRedM4Hk",
        "outputId": "6a659f89-eac9-4fdf-8ec6-27392977c726"
      },
      "execution_count": null,
      "outputs": [
        {
          "output_type": "stream",
          "name": "stdout",
          "text": [
            "Enter a list of numbers separated by spaces: 4 6, 7,9 ,9\n",
            "Invalid input: Please enter numbers separated by spaces.\n"
          ]
        }
      ]
    },
    {
      "cell_type": "markdown",
      "source": [
        "Given bracket sequence:\n",
        "[((())()(())]]\n",
        "\n",
        "*   Can this sequence be considered correct?\n",
        "*   If the asnwer is no, then what needs to be changed in it to make it correct?"
      ],
      "metadata": {
        "id": "sVfwoXM9KJIe"
      }
    },
    {
      "cell_type": "code",
      "source": [],
      "metadata": {
        "id": "e7hb_Q6FNNHV"
      },
      "execution_count": null,
      "outputs": []
    },
    {
      "cell_type": "code",
      "source": [
        "def analyze_sequence(sequence):\n",
        "    stack = []\n",
        "    errors = []\n",
        "\n",
        "    for i, char in enumerate(sequence):\n",
        "        if char in '([':\n",
        "            stack.append((char, i))\n",
        "        else:\n",
        "            if not stack:\n",
        "                errors.append(f\"Remove extra '{char}' at position {i}\")\n",
        "                continue\n",
        "            last_open, _ = stack.pop()\n",
        "            if (char == ')' and last_open != '(') or (char == ']' and last_open != '['):\n",
        "                errors.append(f\"Change '{char}' to '{']' if last_open == '[' else ')'}'\")\n",
        "\n",
        "    if stack:\n",
        "        for char, pos in stack:\n",
        "            errors.append(f\"Add '{']' if char == '[' else ')'}'\")\n",
        "\n",
        "    if not errors:\n",
        "        return \"Sequence is correct\"\n",
        "    else:\n",
        "        return \"Sequence is incorrect. To fix: \" + \"\\n\".join(errors)\n",
        "\n",
        "\n",
        "given_sequence = '[((())()(())]]'\n",
        "analyze_sequence(given_sequence)\n"
      ],
      "metadata": {
        "colab": {
          "base_uri": "https://localhost:8080/",
          "height": 35
        },
        "id": "BFcz_gJVKDD2",
        "outputId": "ed8d0195-bd1f-4428-eb09-bfb5c11924aa"
      },
      "execution_count": null,
      "outputs": [
        {
          "output_type": "execute_result",
          "data": {
            "text/plain": [
              "\"Sequence is incorrect. To fix: Change ']' to ')'\""
            ],
            "application/vnd.google.colaboratory.intrinsic+json": {
              "type": "string"
            }
          },
          "metadata": {},
          "execution_count": 18
        }
      ]
    }
  ]
}